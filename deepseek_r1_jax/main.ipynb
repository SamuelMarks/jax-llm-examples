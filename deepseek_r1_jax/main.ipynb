{
 "cells": [
  {
   "cell_type": "code",
   "execution_count": null,
   "id": "0c88bb62",
   "metadata": {},
   "outputs": [],
   "source": [
    "from pathlib import Path\n",
    "import ipyparallel as ip\n",
    "\n",
    "NODES = 16  # adjust\n",
    "client = ip.Client(connection_info=str(Path(\"~/nfs/security/ipcontroller-client.json\").expanduser()))\n",
    "client.wait_for_engines(NODES - 1)"
   ]
  },
  {
   "cell_type": "code",
   "execution_count": null,
   "id": "4b715596",
   "metadata": {},
   "outputs": [],
   "source": [
    "%%px --local\n",
    "import dataclasses\n",
    "from pprint import pformat\n",
    "from pathlib import Path\n",
    "\n",
    "import jax\n",
    "from jax import numpy as jnp\n",
    "from jax import random\n",
    "import numpy as np\n",
    "from etils import epath\n",
    "\n",
    "jax.config.update(\"jax_compilation_cache_dir\", str(Path(\"~/.jax_cache\").expanduser()))\n",
    "if not jax.distributed.is_initialized():\n",
    "    jax.distributed.initialize()\n",
    "print(jax.devices())\n",
    "\n",
    "from deepseek_r1_jax import model as dsjax\n",
    "from deepseek_r1_jax import chkpt_utils as utils"
   ]
  },
  {
   "cell_type": "code",
   "execution_count": null,
   "id": "d991e2a0",
   "metadata": {},
   "outputs": [],
   "source": [
    "%%px --local\n",
    "def encode_input(tokenizer, texts, pad_id: int = 0):\n",
    "    assert isinstance(texts, list)\n",
    "    inputs = [\n",
    "        tokenizer.apply_chat_template([{\"role\": \"user\", \"content\": text}]) + tokenizer.encode(\"<|Assistant|><think>\")\n",
    "        for text in texts\n",
    "    ]\n",
    "    max_len = max([len(x) for x in inputs])\n",
    "    inputs = [(max_len - len(x)) * [pad_id] + x for x in inputs]\n",
    "    return np.array(inputs)"
   ]
  },
  {
   "cell_type": "code",
   "execution_count": null,
   "id": "81a2400d",
   "metadata": {},
   "outputs": [],
   "source": [
    "%%px --local\n",
    "ckpt_path = epath.Path(f\"~/bucket/deepseek-r1-jax-chkpt\").expanduser()\n",
    "tokenizer = dsjax.load_tokenizer()\n",
    "mesh = jax.make_mesh((1, 4, jax.device_count() // 4), (\"x\", \"y\", \"z\"), devices=jax.devices())\n",
    "cfg = dataclasses.replace(dsjax.Config(), mesh=mesh)\n",
    "weights = utils.load_model(epath.Path(ckpt_path).expanduser(), cfg)"
   ]
  },
  {
   "cell_type": "code",
   "execution_count": null,
   "id": "882caef8",
   "metadata": {},
   "outputs": [
    {
     "ename": "",
     "evalue": "",
     "output_type": "error",
     "traceback": [
      "\u001b[1;31mThe Kernel crashed while executing code in the current cell or a previous cell. \n",
      "\u001b[1;31mPlease review the code in the cell(s) to identify a possible cause of the failure. \n",
      "\u001b[1;31mClick <a href='https://aka.ms/vscodeJupyterKernelCrash'>here</a> for more info. \n",
      "\u001b[1;31mView Jupyter <a href='command:jupyter.viewOutput'>log</a> for further details."
     ]
    }
   ],
   "source": [
    "%%px --local\n",
    "input = encode_input(\n",
    "    tokenizer,\n",
    "    [\n",
    "        \"Tell me your name\",\n",
    "        \"What is the weather like expressed in long prose in Old English\",\n",
    "        \"Do you like ice cream, be extremely precise\",\n",
    "    ],\n",
    ")\n",
    "\n",
    "zero_cache = dsjax.KVCache.init(random.key(1), cfg, input.shape[0], cfg.max_seq_len)\n",
    "curr_tokens, logits, cache = dsjax.prefill(input, weights, zero_cache, cfg)\n",
    "curr_tokens, tokens_list = curr_tokens[:, cache.length - 1 : cache.length], []\n",
    "tokens_list = []\n",
    "for _ in range(32):\n",
    "    tokens_list.append(curr_tokens)\n",
    "    curr_tokens, cache = dsjax.decode_step(curr_tokens, weights, cache, cfg)\n",
    "tokens = np.array(jnp.concatenate(tokens_list, axis=-1))\n",
    "responses = [tokenizer.decode(row) for row in tokens]\n",
    "print(\"Responses:\\n\" + pformat(responses))"
   ]
  }
 ],
 "metadata": {
  "jupytext": {
   "cell_metadata_filter": "-all",
   "main_language": "python",
   "notebook_metadata_filter": "-all"
  },
  "kernelspec": {
   "display_name": "venv",
   "language": "python",
   "name": "python3"
  },
  "language_info": {
   "codemirror_mode": {
    "name": "ipython",
    "version": 3
   },
   "file_extension": ".py",
   "mimetype": "text/x-python",
   "name": "python",
   "nbconvert_exporter": "python",
   "pygments_lexer": "ipython3",
   "version": "3.10.15"
  }
 },
 "nbformat": 4,
 "nbformat_minor": 5
}
